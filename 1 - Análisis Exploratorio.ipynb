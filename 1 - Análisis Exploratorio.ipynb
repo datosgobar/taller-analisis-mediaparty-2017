{
 "cells": [
  {
   "cell_type": "markdown",
   "metadata": {},
   "source": [
    "# Introduccion\n"
   ]
  },
  {
   "cell_type": "markdown",
   "metadata": {},
   "source": [
    "# Importamos librerías"
   ]
  },
  {
   "cell_type": "code",
   "execution_count": 1,
   "metadata": {
    "collapsed": true
   },
   "outputs": [],
   "source": [
    "import pandas as pd  # Importamos la libreria pandas para manejo de datos (la llamamos pd para ser breves)\n",
    "import matplotlib.pylab as plt  # Importamos la librería matplotlib para hacer graficos (la llamamos plt)\n",
    "# Magia de Jupyter para que los graficos se vean directamente en el notebook\n",
    "%matplotlib inline "
   ]
  },
  {
   "cell_type": "markdown",
   "metadata": {},
   "source": [
    "# Cargamos los datos\n",
    "\n",
    "Aquí cargamos leemos los datos del CSV usando una rutina que viene de la librería pandas. Esta rutina genera un DataFrame a partir de un CSV. '*pd.*' quiere decir *dentro de la libreria pandas*"
   ]
  },
  {
   "cell_type": "code",
   "execution_count": 2,
   "metadata": {
    "collapsed": true
   },
   "outputs": [],
   "source": [
    "df = pd.read_csv('historico-nombres-corte.csv')"
   ]
  },
  {
   "cell_type": "markdown",
   "metadata": {},
   "source": [
    "# Análisis exploratorios\n",
    "\n",
    "En esta sección vamos a intentar darnos una idea general de los datos que están contenidos en el dataset. ¿Cuántos datos hay? ¿Qué tipo de datos son? Primero empecemos viendo un pedacito del dataset. Las primeras filas. Para eso podemos usar el método *head* que nos devuelve las primeras 5 lineas. \n",
    "NOTA: si hacemos df.head(8) nos devolverá las primeras 8 filas"
   ]
  },
  {
   "cell_type": "code",
   "execution_count": 3,
   "metadata": {},
   "outputs": [
    {
     "data": {
      "text/html": [
       "<div>\n",
       "<style>\n",
       "    .dataframe thead tr:only-child th {\n",
       "        text-align: right;\n",
       "    }\n",
       "\n",
       "    .dataframe thead th {\n",
       "        text-align: left;\n",
       "    }\n",
       "\n",
       "    .dataframe tbody tr th {\n",
       "        vertical-align: top;\n",
       "    }\n",
       "</style>\n",
       "<table border=\"1\" class=\"dataframe\">\n",
       "  <thead>\n",
       "    <tr style=\"text-align: right;\">\n",
       "      <th></th>\n",
       "      <th>nombre</th>\n",
       "      <th>cantidad</th>\n",
       "      <th>anio</th>\n",
       "    </tr>\n",
       "  </thead>\n",
       "  <tbody>\n",
       "    <tr>\n",
       "      <th>0</th>\n",
       "      <td>Juan Carlos</td>\n",
       "      <td>6908</td>\n",
       "      <td>1956</td>\n",
       "    </tr>\n",
       "    <tr>\n",
       "      <th>1</th>\n",
       "      <td>Miguel Angel</td>\n",
       "      <td>5869</td>\n",
       "      <td>1956</td>\n",
       "    </tr>\n",
       "    <tr>\n",
       "      <th>2</th>\n",
       "      <td>Ana Maria</td>\n",
       "      <td>4955</td>\n",
       "      <td>1956</td>\n",
       "    </tr>\n",
       "    <tr>\n",
       "      <th>3</th>\n",
       "      <td>Carlos Alberto</td>\n",
       "      <td>4662</td>\n",
       "      <td>1956</td>\n",
       "    </tr>\n",
       "    <tr>\n",
       "      <th>4</th>\n",
       "      <td>Maria Cristina</td>\n",
       "      <td>4306</td>\n",
       "      <td>1956</td>\n",
       "    </tr>\n",
       "  </tbody>\n",
       "</table>\n",
       "</div>"
      ],
      "text/plain": [
       "           nombre  cantidad  anio\n",
       "0     Juan Carlos      6908  1956\n",
       "1    Miguel Angel      5869  1956\n",
       "2       Ana Maria      4955  1956\n",
       "3  Carlos Alberto      4662  1956\n",
       "4  Maria Cristina      4306  1956"
      ]
     },
     "execution_count": 3,
     "metadata": {},
     "output_type": "execute_result"
    }
   ],
   "source": [
    "df.head()"
   ]
  },
  {
   "cell_type": "markdown",
   "metadata": {},
   "source": [
    "Vemos que el dataset tiene solo 3 columnas: nombre, cantidad y anio. La columna del principio que aparece **en negrita** corresponde al índice del dataset y que, a menos que hayamos definido otra cosa, es solamente el número de fila. \n",
    "## ¿Cuántos datos hay?\n",
    "\n",
    "Para ver esto podemos usar la función *len* de python que nos da el 'largo' de los objetos. Vemos que hay unos 4.5 millones de nombres."
   ]
  },
  {
   "cell_type": "code",
   "execution_count": 4,
   "metadata": {},
   "outputs": [
    {
     "data": {
      "text/plain": [
       "4516858"
      ]
     },
     "execution_count": 4,
     "metadata": {},
     "output_type": "execute_result"
    }
   ],
   "source": [
    "len(df)"
   ]
  },
  {
   "cell_type": "markdown",
   "metadata": {},
   "source": [
    "## ¿Cuántos nombres *distintos* hay?\n",
    "\n",
    "En *pandas*, para referirnos solo a la columna nombres del dataset *df* escribimos *df.nombres*. Prueben mostrar solo las primeras 11 filas de la columna nombres acá en la celda de abajo:"
   ]
  },
  {
   "cell_type": "code",
   "execution_count": 5,
   "metadata": {
    "collapsed": true
   },
   "outputs": [],
   "source": [
    "# Completar aca:\n"
   ]
  },
  {
   "cell_type": "markdown",
   "metadata": {},
   "source": [
    "Si de una columna nombres queremos contar la cantidad de elementos diferentes, pandas ya nos da un método predefinido para hacerlo: *nunique*"
   ]
  },
  {
   "cell_type": "code",
   "execution_count": 6,
   "metadata": {},
   "outputs": [
    {
     "data": {
      "text/plain": [
       "1716817"
      ]
     },
     "execution_count": 6,
     "metadata": {},
     "output_type": "execute_result"
    }
   ],
   "source": [
    "df.nombre.nunique()"
   ]
  },
  {
   "cell_type": "markdown",
   "metadata": {},
   "source": [
    "## ¿Cuántas personas hay en el registro?\n",
    "Para esto habría que sumar todos los números de la columna cantidad. Para eso existe el método: sum"
   ]
  },
  {
   "cell_type": "code",
   "execution_count": 7,
   "metadata": {},
   "outputs": [
    {
     "data": {
      "text/plain": [
       "34002176"
      ]
     },
     "execution_count": 7,
     "metadata": {},
     "output_type": "execute_result"
    }
   ],
   "source": [
    "df.cantidad.sum()"
   ]
  },
  {
   "cell_type": "markdown",
   "metadata": {},
   "source": [
    "## ¿Qué años comprende el dataset?\n",
    "\n",
    "Para ver entre que años va nuestro registro podríamos mirar el máximo y mínimo de esa columna. Para eso exiten las  funciones min y max. Completá las celdas de abajo para conseguir la respuesta:"
   ]
  },
  {
   "cell_type": "code",
   "execution_count": 8,
   "metadata": {},
   "outputs": [
    {
     "ename": "SyntaxError",
     "evalue": "invalid syntax (<ipython-input-8-f7a69a63845a>, line 1)",
     "output_type": "error",
     "traceback": [
      "\u001b[0;36m  File \u001b[0;32m\"<ipython-input-8-f7a69a63845a>\"\u001b[0;36m, line \u001b[0;32m1\u001b[0m\n\u001b[0;31m    df.anio. # completar para calcular el mínimo\u001b[0m\n\u001b[0m                                                ^\u001b[0m\n\u001b[0;31mSyntaxError\u001b[0m\u001b[0;31m:\u001b[0m invalid syntax\n"
     ]
    }
   ],
   "source": [
    "df.anio. # completar para calcular el mínimo"
   ]
  },
  {
   "cell_type": "code",
   "execution_count": 9,
   "metadata": {},
   "outputs": [
    {
     "ename": "SyntaxError",
     "evalue": "invalid syntax (<ipython-input-9-b846204f4eca>, line 1)",
     "output_type": "error",
     "traceback": [
      "\u001b[0;36m  File \u001b[0;32m\"<ipython-input-9-b846204f4eca>\"\u001b[0;36m, line \u001b[0;32m1\u001b[0m\n\u001b[0;31m    df.anio. # completar para calcular el máximo\u001b[0m\n\u001b[0m                                                ^\u001b[0m\n\u001b[0;31mSyntaxError\u001b[0m\u001b[0;31m:\u001b[0m invalid syntax\n"
     ]
    }
   ],
   "source": [
    "df.anio. # completar para calcular el máximo"
   ]
  },
  {
   "cell_type": "markdown",
   "metadata": {},
   "source": [
    "## ¿Cuáles son los nombres más populares de la historia?\n",
    "\n",
    "Para esto tenemos que poder agrupar los datos por nombre. La función que nos permite hacer eso se llama *group_by* y tenemos que decirle por cuál columna queremos agrupar. Luego de agrupar podemos aplicar las cosas que ya vimos como elegir la columna *cantidad* y sumar todos sus elementos pero ahora **por grupo**"
   ]
  },
  {
   "cell_type": "code",
   "execution_count": 10,
   "metadata": {
    "collapsed": true
   },
   "outputs": [],
   "source": [
    "totales_nombre = df.groupby('nombre').cantidad.sum() #Asignamos el resultado a una variable nueva totales_nombre"
   ]
  },
  {
   "cell_type": "markdown",
   "metadata": {},
   "source": [
    "Vemos como podemos ir combinando las funciones que ya aprendimos. Para agrupar hacemos df.groupby('columna') para luego elegir una columna particular hacemos .nombre_columna  y finalmente para sumar los valores hacemos .sum()\n",
    "\n",
    "Es decir que queda: \n",
    "\n",
    "    df.groupby('columna').nombre_columna.sum()\n",
    "    \n",
    "Ahora solamente nos falta ordenarlo para eso usamos el método *sort_values* con la opcion *ascending=False* para que el orden sea decreciente. Luego, mostramos los primeros 10 elementos.   "
   ]
  },
  {
   "cell_type": "code",
   "execution_count": 11,
   "metadata": {},
   "outputs": [
    {
     "data": {
      "text/plain": [
       "nombre\n",
       "Miguel Angel       169448\n",
       "Juan Carlos        167202\n",
       "Jose Luis          134849\n",
       "Carlos Alberto     119626\n",
       "Luis Alberto        93311\n",
       "Juan Manuel         79758\n",
       "Maria Laura         74332\n",
       "Ana Maria           67935\n",
       "Maria Alejandra     67522\n",
       "Julio Cesar         64005\n",
       "Name: cantidad, dtype: int64"
      ]
     },
     "execution_count": 11,
     "metadata": {},
     "output_type": "execute_result"
    }
   ],
   "source": [
    "totales_nombre.sort_values(ascending=False).head(10)"
   ]
  },
  {
   "cell_type": "markdown",
   "metadata": {},
   "source": [
    "## ¿Cuántas personas hay registradas por año?\n",
    "\n",
    "Este cálculo es muy parecido al anterior pero agrupando por año en lugar de por nombre. ¿Cómo se escribe esta pregunta en código?"
   ]
  },
  {
   "cell_type": "code",
   "execution_count": 12,
   "metadata": {},
   "outputs": [
    {
     "ename": "SyntaxError",
     "evalue": "invalid syntax (<ipython-input-12-92e997468c18>, line 1)",
     "output_type": "error",
     "traceback": [
      "\u001b[0;36m  File \u001b[0;32m\"<ipython-input-12-92e997468c18>\"\u001b[0;36m, line \u001b[0;32m1\u001b[0m\n\u001b[0;31m    totales_anios =    # Completar!\u001b[0m\n\u001b[0m                                    ^\u001b[0m\n\u001b[0;31mSyntaxError\u001b[0m\u001b[0;31m:\u001b[0m invalid syntax\n"
     ]
    }
   ],
   "source": [
    "totales_anios =    # Completar! "
   ]
  },
  {
   "cell_type": "markdown",
   "metadata": {},
   "source": [
    "Más que ver los años en los que hubo más registros nos va a interesar ver si hay alguna tendencia o comportamiento particular. Para esto un gráfico vale más que mil palabras. Para graficar alcanza con usar el método *plot*:\n",
    "\n",
    "NOTA: El ; al final de la linea omite el output de texto de matplotlib (sacalo y fijate que pasa)"
   ]
  },
  {
   "cell_type": "code",
   "execution_count": 13,
   "metadata": {},
   "outputs": [
    {
     "ename": "NameError",
     "evalue": "name 'totales_anios' is not defined",
     "output_type": "error",
     "traceback": [
      "\u001b[0;31m---------------------------------------------------------------------------\u001b[0m",
      "\u001b[0;31mNameError\u001b[0m                                 Traceback (most recent call last)",
      "\u001b[0;32m<ipython-input-13-e72fe2aa6234>\u001b[0m in \u001b[0;36m<module>\u001b[0;34m()\u001b[0m\n\u001b[0;32m----> 1\u001b[0;31m \u001b[0mtotales_anios\u001b[0m\u001b[0;34m.\u001b[0m\u001b[0mplot\u001b[0m\u001b[0;34m(\u001b[0m\u001b[0;34m)\u001b[0m\u001b[0;34m;\u001b[0m\u001b[0;34m\u001b[0m\u001b[0m\n\u001b[0m",
      "\u001b[0;31mNameError\u001b[0m: name 'totales_anios' is not defined"
     ]
    }
   ],
   "source": [
    "totales_anios.plot();"
   ]
  },
  {
   "cell_type": "markdown",
   "metadata": {},
   "source": [
    "## ¿Cuántos registros tiene el nombre Juan Carlos por año?\n",
    "\n",
    "Para poder contestar esta pregunta necesitamos 'filtrar' los datos de alguna manera. Una forma de hacer esto es usando la notación de corchetes. El código básico es \n",
    " \n",
    "    df[algo]\n",
    "donde ese *algo* es una forma de decir que parte de la tabla tomar.\n",
    "\n",
    "Por ejemplo: df['nombre_columna'] es equivalente a df.nombre_columna (pero tiene la ventaja de que funcionna aunque el nombre de la coluna contenga espacios o caracteres raros. \n",
    "\n",
    "Ese algo también puede ser una expresión lógica. Por ejemplo para quedarnos solo con los datos a partir de 1960 podríamos hacer:\n",
    "\n",
    "    df[df.anio >= 1960]\n",
    " \n",
    " Para quedarnos solo con los datos correspondientes a Juan Carlos hacemos:"
   ]
  },
  {
   "cell_type": "code",
   "execution_count": 14,
   "metadata": {
    "collapsed": true,
    "run_control": {
     "marked": false
    }
   },
   "outputs": [],
   "source": [
    "df_juan_carlos = df[df.nombre=='Juan Carlos']"
   ]
  },
  {
   "cell_type": "markdown",
   "metadata": {},
   "source": [
    "y para graficarlos:"
   ]
  },
  {
   "cell_type": "code",
   "execution_count": 15,
   "metadata": {},
   "outputs": [
    {
     "data": {
      "image/png": "[encoded data removed]",
      "text/plain": [
       "<matplotlib.figure.Figure at 0x7f2f9c765208>"
      ]
     },
     "metadata": {},
     "output_type": "display_data"
    }
   ],
   "source": [
    "# Fijense que aca usamos otra manera de pedir el grafico eligiendo los valores para el eje 'x' y para el eje 'y'\n",
    "df_juan_carlos.plot(x='anio', y='cantidad');"
   ]
  },
  {
   "cell_type": "markdown",
   "metadata": {},
   "source": [
    "# Ejercicios\n",
    "\n",
    "En esta sección se proponen algunas preguntas de exploración del dataset para que traduzcan a código."
   ]
  },
  {
   "cell_type": "markdown",
   "metadata": {},
   "source": [
    "## ¿Cuántos nombres distintos hay cada año?\n",
    "PISTA: Te van a servir los metodos *group_by* y *nunique*\n",
    "\n",
    "\n",
    "Hagan el grafico!"
   ]
  },
  {
   "cell_type": "code",
   "execution_count": 16,
   "metadata": {
    "collapsed": true
   },
   "outputs": [],
   "source": [
    "# Completen su respuesta aca:\n",
    "\n",
    "\n",
    "\n"
   ]
  },
  {
   "cell_type": "markdown",
   "metadata": {},
   "source": [
    "Ignoren la celda que sigue es solo para generar el boton que da la respuesta por si la necesitan:"
   ]
  },
  {
   "cell_type": "code",
   "execution_count": 17,
   "metadata": {
    "code_folding": [
     0
    ]
   },
   "outputs": [
    {
     "data": {
      "text/html": [
       "<script>\n",
       "function showme(){\n",
       "    var text = \"distintos_por_anio = df.groupby('anio').nombre.nunique() <br>\"\n",
       "    text = text + \"distintos_por_anio.plot()\"\n",
       "    document.getElementById(\"demo\").innerHTML = text;\n",
       "}\n",
       "</script>\n",
       "<button onclick='showme()'>Mostrar respuesta</button>\n",
       "<p id='demo'>\n",
       "\n",
       "</p>"
      ],
      "text/plain": [
       "<IPython.core.display.HTML object>"
      ]
     },
     "metadata": {},
     "output_type": "display_data"
    }
   ],
   "source": [
    "%%html\n",
    "<script>\n",
    "function showme(){\n",
    "    var text = \"distintos_por_anio = df.groupby('anio').nombre.nunique() <br>\"\n",
    "    text = text + \"distintos_por_anio.plot()\"\n",
    "    document.getElementById(\"demo\").innerHTML = text;\n",
    "}\n",
    "</script>\n",
    "<button onclick='showme()'>Mostrar respuesta</button>\n",
    "<p id='demo'>\n",
    "\n",
    "</p>"
   ]
  },
  {
   "cell_type": "markdown",
   "metadata": {},
   "source": [
    "## ¿Cuantos Registros tiene Juan Manuel por año?\n",
    "\n",
    "Mostrar el gráfico"
   ]
  },
  {
   "cell_type": "code",
   "execution_count": null,
   "metadata": {
    "collapsed": true
   },
   "outputs": [],
   "source": [
    "# COMPLETAR:\n"
   ]
  },
  {
   "cell_type": "markdown",
   "metadata": {},
   "source": [
    "## ¿Como se compara la cantidad de Juan Manueles con la de Juan Carlos?\n",
    "\n",
    "PISTA: Incluí ambos en el mísmo grafico. Para eso dale una variable de salida al método plot de un gráfico y usarlo como input para el otro.\n",
    "\n",
    "Ejemplo\n",
    "\n",
    "    mis_ejes = df_juan_carlos.plot( ... lo que corresponda ... )\n",
    "    df_juan_manuel.plot(... lo que corresponda ... , ax=mis_ejes)"
   ]
  },
  {
   "cell_type": "code",
   "execution_count": null,
   "metadata": {
    "collapsed": true
   },
   "outputs": [],
   "source": [
    "# COMPLETAR:\n",
    "\n"
   ]
  }
 ],
 "metadata": {
  "kernelspec": {
   "display_name": "Python 3",
   "language": "python",
   "name": "python3"
  },
  "language_info": {
   "codemirror_mode": {
    "name": "ipython",
    "version": 3
   },
   "file_extension": ".py",
   "mimetype": "text/x-python",
   "name": "python",
   "nbconvert_exporter": "python",
   "pygments_lexer": "ipython3",
   "version": "3.5.2"
  }
 },
 "nbformat": 4,
 "nbformat_minor": 1
}
