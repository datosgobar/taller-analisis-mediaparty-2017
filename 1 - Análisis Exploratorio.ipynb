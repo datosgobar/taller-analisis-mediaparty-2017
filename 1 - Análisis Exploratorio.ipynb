{
 "cells": [
  {
   "cell_type": "markdown",
   "metadata": {},
   "source": [
    "# Introduccion\n"
   ]
  },
  {
   "cell_type": "markdown",
   "metadata": {},
   "source": [
    "# Importamos librerías"
   ]
  },
  {
   "cell_type": "code",
   "execution_count": 3,
   "metadata": {},
   "outputs": [],
   "source": [
    "import pandas as pd  # Importamos la libreria pandas para manejo de datos (la llamamos pd para ser breves)\n",
    "import matplotlib.pylab as plt  # Importamos la librería matplotlib para hacer graficos (la llamamos plt)\n",
    "# Magia de Jupyter para que los graficos se vean directamente en el notebook\n",
    "%matplotlib inline "
   ]
  },
  {
   "cell_type": "markdown",
   "metadata": {},
   "source": [
    "# Cargamos los datos\n",
    "\n",
    "Aquí cargamos leemos los datos del CSV usando una rutina que viene de la librería pandas. Esta rutina genera un DataFrame a partir de un CSV. '*pd.*' quiere decir *dentro de la libreria pandas*"
   ]
  },
  {
   "cell_type": "code",
   "execution_count": 20,
   "metadata": {
    "collapsed": true
   },
   "outputs": [],
   "source": [
    "df = pd.read_csv('historico-nombres.csv')\n",
    "df = df[(df.anio>1955) &(df.anio<1995)]"
   ]
  },
  {
   "cell_type": "markdown",
   "metadata": {},
   "source": [
    "# Análisis exploratorios\n",
    "\n",
    "En esta sección vamos a intentar darnos una idea general de los datos que están contenidos en el dataset. ¿Cuántos datos hay? ¿Qué tipo de datos son? Primero empecemos viendo un pedacito del dataset. Las primeras filas. Para eso podemos usar el método *head* que nos devuelve las primeras 5 lineas. \n",
    "NOTA: si hacemos df.head(8) nos devolverá las primeras 8 filas"
   ]
  },
  {
   "cell_type": "code",
   "execution_count": 21,
   "metadata": {},
   "outputs": [
    {
     "data": {
      "text/html": [
       "<div>\n",
       "<style>\n",
       "    .dataframe thead tr:only-child th {\n",
       "        text-align: right;\n",
       "    }\n",
       "\n",
       "    .dataframe thead th {\n",
       "        text-align: left;\n",
       "    }\n",
       "\n",
       "    .dataframe tbody tr th {\n",
       "        vertical-align: top;\n",
       "    }\n",
       "</style>\n",
       "<table border=\"1\" class=\"dataframe\">\n",
       "  <thead>\n",
       "    <tr style=\"text-align: right;\">\n",
       "      <th></th>\n",
       "      <th>nombre</th>\n",
       "      <th>cantidad</th>\n",
       "      <th>anio</th>\n",
       "    </tr>\n",
       "  </thead>\n",
       "  <tbody>\n",
       "    <tr>\n",
       "      <th>1917820</th>\n",
       "      <td>Juan Carlos</td>\n",
       "      <td>6908</td>\n",
       "      <td>1956</td>\n",
       "    </tr>\n",
       "    <tr>\n",
       "      <th>1917821</th>\n",
       "      <td>Miguel Angel</td>\n",
       "      <td>5869</td>\n",
       "      <td>1956</td>\n",
       "    </tr>\n",
       "    <tr>\n",
       "      <th>1917822</th>\n",
       "      <td>Ana Maria</td>\n",
       "      <td>4955</td>\n",
       "      <td>1956</td>\n",
       "    </tr>\n",
       "    <tr>\n",
       "      <th>1917823</th>\n",
       "      <td>Carlos Alberto</td>\n",
       "      <td>4662</td>\n",
       "      <td>1956</td>\n",
       "    </tr>\n",
       "    <tr>\n",
       "      <th>1917824</th>\n",
       "      <td>Maria Cristina</td>\n",
       "      <td>4306</td>\n",
       "      <td>1956</td>\n",
       "    </tr>\n",
       "  </tbody>\n",
       "</table>\n",
       "</div>"
      ],
      "text/plain": [
       "                 nombre  cantidad  anio\n",
       "1917820     Juan Carlos      6908  1956\n",
       "1917821    Miguel Angel      5869  1956\n",
       "1917822       Ana Maria      4955  1956\n",
       "1917823  Carlos Alberto      4662  1956\n",
       "1917824  Maria Cristina      4306  1956"
      ]
     },
     "execution_count": 21,
     "metadata": {},
     "output_type": "execute_result"
    }
   ],
   "source": [
    "df.head()"
   ]
  },
  {
   "cell_type": "markdown",
   "metadata": {},
   "source": [
    "Vemos que el dataset tiene solo 3 columnas: nombre, cantidad y anio. La columna del principio que aparece **en negrita** corresponde al índice del dataset y que, a menos que hayamos definido otra cosa, es solamente el número de fila. \n",
    "## ¿Cuántos datos hay?\n",
    "\n",
    "Para ver esto podemos usar la función *len* de python que nos da el 'largo' de los objetos. Vemos que hay unos 4.5 millones de nombres."
   ]
  },
  {
   "cell_type": "code",
   "execution_count": 22,
   "metadata": {},
   "outputs": [
    {
     "data": {
      "text/plain": [
       "4516858"
      ]
     },
     "execution_count": 22,
     "metadata": {},
     "output_type": "execute_result"
    }
   ],
   "source": [
    "len(df)"
   ]
  },
  {
   "cell_type": "markdown",
   "metadata": {},
   "source": [
    "## ¿Cuántos nombres *distintos* hay?\n",
    "\n",
    "En *pandas*, para referirnos solo a la columna nombres del dataset *df* escribimos *df.nombres*. Prueben mostrar solo las primeras 11 filas de la columna nombres acá en la celda de abajo:"
   ]
  },
  {
   "cell_type": "code",
   "execution_count": null,
   "metadata": {
    "collapsed": true
   },
   "outputs": [],
   "source": [
    "# Completar aca:\n"
   ]
  },
  {
   "cell_type": "markdown",
   "metadata": {},
   "source": [
    "Si de una columna nombres queremos contar la cantidad de elementos diferentes, pandas ya nos da un método predefinido para hacerlo: *nunique*"
   ]
  },
  {
   "cell_type": "code",
   "execution_count": 23,
   "metadata": {},
   "outputs": [
    {
     "data": {
      "text/plain": [
       "1716817"
      ]
     },
     "execution_count": 23,
     "metadata": {},
     "output_type": "execute_result"
    }
   ],
   "source": [
    "df.nombre.nunique()"
   ]
  },
  {
   "cell_type": "markdown",
   "metadata": {},
   "source": [
    "## ¿Cuántas personas hay en el registro?\n",
    "Para esto habría que sumar todos los números de la columna cantidad. Para eso existe el método: sum"
   ]
  },
  {
   "cell_type": "code",
   "execution_count": 26,
   "metadata": {},
   "outputs": [
    {
     "data": {
      "text/plain": [
       "34002176"
      ]
     },
     "execution_count": 26,
     "metadata": {},
     "output_type": "execute_result"
    }
   ],
   "source": [
    "df.cantidad.sum()"
   ]
  },
  {
   "cell_type": "markdown",
   "metadata": {},
   "source": [
    "## ¿Qué años comprende el dataset?\n",
    "\n",
    "Para ver entre que años va nuestro registro podríamos mirar el máximo y mínimo de esa columna. Para eso exiten las  funciones min y max. Completá las celdas de abajo para conseguir la respuesta:"
   ]
  },
  {
   "cell_type": "code",
   "execution_count": null,
   "metadata": {
    "collapsed": true
   },
   "outputs": [],
   "source": [
    "df.anio. # completar para calcular el mínimo"
   ]
  },
  {
   "cell_type": "code",
   "execution_count": null,
   "metadata": {
    "collapsed": true
   },
   "outputs": [],
   "source": [
    "df.anio. # completar para calcular el máximo"
   ]
  },
  {
   "cell_type": "markdown",
   "metadata": {},
   "source": [
    "## ¿Cuáles son los nombres más populares de la historia?\n",
    "\n",
    "Para esto tenemos que poder agrupar los datos por nombre. La función que nos permite hacer eso se llama *group_by* y tenemos que decirle por cuál columna queremos agrupar. Luego de agrupar podemos aplicar las cosas que ya vimos como elegir la columna *cantidad* y sumar todos sus elementos pero ahora **por grupo**"
   ]
  },
  {
   "cell_type": "code",
   "execution_count": 24,
   "metadata": {},
   "outputs": [],
   "source": [
    "totales_nombre = df.groupby('nombre').cantidad.sum() #Asignamos el resultado a una variable nueva totales_nombre"
   ]
  },
  {
   "cell_type": "markdown",
   "metadata": {},
   "source": [
    "Vemos como podemos ir combinando las funciones que ya aprendimos. Para agrupar hacemos df.groupby('columna') para luego elegir una columna particular hacemos .nombre_columna  y finalmente para sumar los valores hacemos .sum()\n",
    "\n",
    "Es decir que queda: \n",
    "\n",
    "    df.groupby('columna').nombre_columna.sum()\n",
    "    \n",
    "Ahora solamente nos falta ordenarlo para eso usamos el método *sort_values* con la opcion *ascending=False* para que el orden sea decreciente. Luego, mostramos los primeros 10 elementos.   "
   ]
  },
  {
   "cell_type": "code",
   "execution_count": 25,
   "metadata": {},
   "outputs": [
    {
     "data": {
      "text/plain": [
       "nombre\n",
       "Miguel Angel       169448\n",
       "Juan Carlos        167202\n",
       "Jose Luis          134849\n",
       "Carlos Alberto     119626\n",
       "Luis Alberto        93311\n",
       "Juan Manuel         79758\n",
       "Maria Laura         74332\n",
       "Ana Maria           67935\n",
       "Maria Alejandra     67522\n",
       "Julio Cesar         64005\n",
       "Name: cantidad, dtype: int64"
      ]
     },
     "execution_count": 25,
     "metadata": {},
     "output_type": "execute_result"
    }
   ],
   "source": [
    "totales_nombre.sort_values(ascending=False).head(10)"
   ]
  },
  {
   "cell_type": "markdown",
   "metadata": {},
   "source": [
    "## ¿Cuántas personas hay registradas por año?\n",
    "\n",
    "Este cálculo es muy parecido al anterior pero agrupando por año en lugar de por nombre. ¿Cómo se escribe esta pregunta en código?"
   ]
  },
  {
   "cell_type": "code",
   "execution_count": 30,
   "metadata": {
    "collapsed": true
   },
   "outputs": [],
   "source": [
    "totales_anios =    # Completar! "
   ]
  },
  {
   "cell_type": "markdown",
   "metadata": {},
   "source": [
    "Más que ver los años en los que hubo más registros nos va a interesar ver si hay alguna tendencia o comportamiento particular. Para esto un gráfico vale más que mil palabras. Para graficar alcanza con usar el método *plot*:\n",
    "\n",
    "NOTA: El ; al final de la linea omite el output de texto de matplotlib (sacalo y fijate que pasa)"
   ]
  },
  {
   "cell_type": "code",
   "execution_count": 37,
   "metadata": {},
   "outputs": [
    {
     "data": {
      "image/png": "[encoded data removed]",
      "text/plain": [
       "<matplotlib.figure.Figure at 0x7ff9a3fdeb10>"
      ]
     },
     "metadata": {},
     "output_type": "display_data"
    }
   ],
   "source": [
    "totales_anios.plot();"
   ]
  },
  {
   "cell_type": "markdown",
   "metadata": {},
   "source": [
    "## ¿Cuántos registros tiene el nombre Juan Carlos por año?\n",
    "\n",
    "Para poder contestar esta pregunta necesitamos 'filtrar' los datos de alguna manera. Una forma de hacer esto es usando la notación de corchetes. El código básico es \n",
    " \n",
    "    df[algo]\n",
    "donde ese *algo* es una forma de decir que parte de la tabla tomar.\n",
    "\n",
    "Por ejemplo: df['nombre_columna'] es equivalente a df.nombre_columna (pero tiene la ventaja de que funcionna aunque el nombre de la coluna contenga espacios o caracteres raros. \n",
    "\n",
    "Ese algo también puede ser una expresión lógica. Por ejemplo para quedarnos solo con los datos a partir de 1960 podríamos hacer:\n",
    "\n",
    "    df[df.anio >= 1960]\n",
    " \n",
    " Para quedarnos solo con los datos correspondientes a Juan Carlos hacemos:"
   ]
  },
  {
   "cell_type": "code",
   "execution_count": 34,
   "metadata": {
    "collapsed": true,
    "run_control": {
     "marked": false
    }
   },
   "outputs": [],
   "source": [
    "df_juan_carlos = df[df.nombre=='Juan Carlos']"
   ]
  },
  {
   "cell_type": "markdown",
   "metadata": {},
   "source": [
    "y para graficarlos:"
   ]
  },
  {
   "cell_type": "code",
   "execution_count": 41,
   "metadata": {},
   "outputs": [
    {
     "data": {
      "image/png": "[encoded data removed]",
      "text/plain": [
       "<matplotlib.figure.Figure at 0x7ff9a3ff0f90>"
      ]
     },
     "metadata": {},
     "output_type": "display_data"
    }
   ],
   "source": [
    "# Fijense que aca usamos otra manera de pedir el grafico eligiendo los valores para el eje 'x' y para el eje 'y'\n",
    "df_juan_carlos.plot(x='anio', y='cantidad');"
   ]
  },
  {
   "cell_type": "markdown",
   "metadata": {},
   "source": [
    "# Ejercicios\n",
    "\n",
    "En esta sección se proponen algunas preguntas de exploración del dataset para que traduzcan a código."
   ]
  },
  {
   "cell_type": "markdown",
   "metadata": {},
   "source": [
    "## ¿Cuántos nombres distintos hay cada año?\n",
    "PISTA: Te van a servir los metodos *group_by* y *nunique*\n",
    "\n",
    "\n",
    "Hagan el grafico!"
   ]
  },
  {
   "cell_type": "code",
   "execution_count": 54,
   "metadata": {
    "collapsed": true
   },
   "outputs": [],
   "source": [
    "# Completen su respuesta aca:\n",
    "\n",
    "\n",
    "\n"
   ]
  },
  {
   "cell_type": "markdown",
   "metadata": {},
   "source": [
    "Ignoren la celda que sigue es solo para generar el boton que da la respuesta por si la necesitan:"
   ]
  },
  {
   "cell_type": "code",
   "execution_count": 74,
   "metadata": {
    "code_folding": [
     0
    ]
   },
   "outputs": [
    {
     "data": {
      "text/html": [
       "<script>\n",
       "function showme(){\n",
       "    var text = \"distintos_por_anio = df.groupby('anio').nombre.nunique() <br>\"\n",
       "    text = text + \"distintos_por_anio.plot()\"\n",
       "    document.getElementById(\"demo\").innerHTML = text;\n",
       "}\n",
       "</script>\n",
       "<button onclick='showme()'>Mostrar respuesta</button>\n",
       "<p id='demo'>\n",
       "\n",
       "</p>"
      ],
      "text/plain": [
       "<IPython.core.display.HTML object>"
      ]
     },
     "metadata": {},
     "output_type": "display_data"
    }
   ],
   "source": [
    "%%html\n",
    "<script>\n",
    "function showme(){\n",
    "    var text = \"distintos_por_anio = df.groupby('anio').nombre.nunique() <br>\"\n",
    "    text = text + \"distintos_por_anio.plot()\"\n",
    "    document.getElementById(\"demo\").innerHTML = text;\n",
    "}\n",
    "</script>\n",
    "<button onclick='showme()'>Mostrar respuesta</button>\n",
    "<p id='demo'>\n",
    "\n",
    "</p>"
   ]
  },
  {
   "cell_type": "markdown",
   "metadata": {},
   "source": [
    "## ¿Cuantos Registros tiene Juan Manuel por año?\n",
    "\n",
    "Mostrar el gráfico"
   ]
  },
  {
   "cell_type": "code",
   "execution_count": 73,
   "metadata": {},
   "outputs": [
    {
     "data": {
      "text/plain": [
       "<matplotlib.axes._subplots.AxesSubplot at 0x7ff9a3fb2990>"
      ]
     },
     "execution_count": 73,
     "metadata": {},
     "output_type": "execute_result"
    },
    {
     "data": {
      "image/png": "[encoded data removed]",
      "text/plain": [
       "<matplotlib.figure.Figure at 0x7ff9a448e150>"
      ]
     },
     "metadata": {},
     "output_type": "display_data"
    }
   ],
   "source": [
    "ax = df[df.nombre=='Juan Manuel'].plot(x='anio', y='cantidad')\n",
    "df[df.nombre=='Juan Carlos'].plot(x='anio', y='cantidad',ax=ax)"
   ]
  },
  {
   "cell_type": "markdown",
   "metadata": {},
   "source": [
    "## ¿Como se compara la cantidad de Juan Manueles con la de Juan Carlos?\n",
    "\n",
    "PISTA: Incluí ambos en el mísmo grafico. Para eso dale una variable de salida al método plot de un gráfico y usarlo como input para el otro.\n",
    "\n",
    "Ejemplo\n",
    "\n",
    "    mis_ejes = df_juan_carlos"
   ]
  },
  {
   "cell_type": "code",
   "execution_count": null,
   "metadata": {
    "collapsed": true
   },
   "outputs": [],
   "source": []
  }
 ],
 "metadata": {
  "kernelspec": {
   "display_name": "Python [Root]",
   "language": "python",
   "name": "Python [Root]"
  },
  "language_info": {
   "codemirror_mode": {
    "name": "ipython",
    "version": 2
   },
   "file_extension": ".py",
   "mimetype": "text/x-python",
   "name": "python",
   "nbconvert_exporter": "python",
   "pygments_lexer": "ipython2",
   "version": "2.7.12"
  }
 },
 "nbformat": 4,
 "nbformat_minor": 1
}
